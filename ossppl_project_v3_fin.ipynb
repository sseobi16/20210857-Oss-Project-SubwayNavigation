{
  "nbformat": 4,
  "nbformat_minor": 0,
  "metadata": {
    "colab": {
      "name": "ossppl_project_v3.ipynb",
      "provenance": [],
      "collapsed_sections": [
        "NUD-hySm_uPc"
      ]
    },
    "kernelspec": {
      "name": "python3",
      "display_name": "Python 3"
    }
  },
  "cells": [
    {
      "cell_type": "markdown",
      "metadata": {
        "id": "NUD-hySm_uPc"
      },
      "source": [
        "# **Open Source SW and Python Programming Project: Implementation of Subway Navigation**\n",
        "\n",
        "In this project, you will implement a navigation system for Seoul subway stations, especially **step by step**\n",
        "\n",
        "\n"
      ]
    },
    {
      "cell_type": "markdown",
      "metadata": {
        "id": "uUsnepoeAhVl"
      },
      "source": [
        "# 0. Initialization\n",
        "\n",
        "Read subway station information by reading the file **simplified_subway_info.xlsx**\n",
        "*  The excel file contains subway station information of Seoul subway line 1 ~ 4\n",
        "*  When you execute this sourcecode, you MUST upload these files in your Colab runtime environment\n",
        "*   **MUST NOT** change this Initialization code cell"
      ]
    },
    {
      "cell_type": "code",
      "metadata": {
        "id": "qnbOlA6o_mIl"
      },
      "source": [
        "import xlrd\n",
        "\n",
        "# Read data file\n",
        "data = xlrd.open_workbook(\"simplified_subway_info.xlsx\")\n",
        "data = data.sheet_by_name('Sheet1')\n",
        "\n",
        "# Store the loaded book object as a string list in subwayStation variable\n",
        "subwayStation = []\n",
        "for line in range(4) :\n",
        "    cur = [x for x in data.col_values(line) if x]    \n",
        "    subwayStation.append(cur[1:])"
      ],
      "execution_count": 175,
      "outputs": []
    },
    {
      "cell_type": "markdown",
      "metadata": {
        "id": "DBXU61Tn_vKS"
      },
      "source": [
        "# 1. Your implementation\n",
        "Let's start the implementation of a subway naviation system by using the loaded subway station information :)\n",
        "\n",
        "*   You can access the subway station information by referring to **subwayStation** variable (list type)"
      ]
    },
    {
      "cell_type": "code",
      "metadata": {
        "id": "Lfh1XVV5eD5z"
      },
      "source": [
        "keys = ['Line1', 'Line2', 'Line3', 'Line4']\n",
        "values = subwayStation\n",
        "subwayStation = {}\n",
        "for line, stations in zip(keys, values):\n",
        "    subwayStation[line] = SubwayLine(stations)"
      ],
      "execution_count": 176,
      "outputs": []
    },
    {
      "cell_type": "code",
      "metadata": {
        "id": "Zyh_QWycpTF5"
      },
      "source": [
        "print(subwayStation['Line1'])\n",
        "print(subwayStation['Line1'] & subwayStation['Line2'])\n",
        "print('동대문' in subwayStation['Line1'])\n",
        "print(subwayStation['Line1'].getPath('서울역', '길음'))\n",
        "print(subwayStation['Line1'].getPath('서울역', '신촌'))"
      ],
      "execution_count": null,
      "outputs": []
    },
    {
      "cell_type": "code",
      "metadata": {
        "id": "B9DYWvuDeuVi"
      },
      "source": [
        "class SubwayLine:\n",
        "    def __init__(self, stations):\n",
        "        self.stations = stations\n",
        "    \n",
        "    def __str__(self):\n",
        "        return str(self.stations)\n",
        "\n",
        "    def __and__(self, other):\n",
        "        return tuple(set(self.stations) & set(other))\n",
        "        \n",
        "    def __contains__(self, station):\n",
        "        if station in self.stations:\n",
        "            return True\n",
        "        else:\n",
        "            return False\n",
        "\n",
        "    def getPath(self, dpt, dst):\n",
        "        self.stations = stations\n",
        "        try:\n",
        "            dptIndex = stations.index(dpt)\n",
        "            dstIndex = stations.index(dst)       \n",
        "        except ValueError:\n",
        "            print('None')\n",
        "        else:\n",
        "            return list(self.stations[min(dptIndex,dstIndex):max(dptIndex,dstIndex)+1])\n"
      ],
      "execution_count": 177,
      "outputs": []
    },
    {
      "cell_type": "code",
      "metadata": {
        "id": "7h-scy6AI8Re"
      },
      "source": [
        "separator = '*****' * 10\n",
        "inputMsg = '>> [INPUT] {}'\n",
        "outputMsg = '>> [OUTPUT] {}'\n",
        "errorMsg = '>> [ERROR] {}'\n",
        "\n",
        "def dispSubwayLineInfo():\n",
        "    while True:\n",
        "        try:\n",
        "            line = 'Line' + str(input(inputMsg.format('Please enter a subway line number (1 - 4):')))\n",
        "            print(outputMsg.format(line + ': ' + str(subwayStation[line]))) \n",
        "\n",
        "        except KeyError:\n",
        "             print(errorMsg.format('Please enter a valid subway line number.'))\n",
        "\n",
        "        else:\n",
        "            return\n",
        "\n",
        "def getStationAndLines(msg):\n",
        "    while True:\n",
        "        \n",
        "        station = input(inputMsg.format(msg)) \n",
        "\n",
        "        lines = []\n",
        "        for line in subwayStation:\n",
        "            if station in subwayStation[line]:\n",
        "                lines.append(line)\n",
        "\n",
        "        if len(lines) == 0:\n",
        "            print(errorMsg.format('Please enter a valid subway station name.'))\n",
        "        else:\n",
        "            return station, lines\n",
        "\n",
        "def dispSubwayStationInfo():\n",
        "    station, lines = getStationAndLines('Please enter a subway station name:')\n",
        "    print(outputMsg.format(station + ' is in ' + str(lines)))\n",
        "\n",
        "def printPath(dpt, dst, line):\n",
        "    dptIndex = subwayStation[line].index(dpt)\n",
        "    dstIndex = subwayStation[line].index(dst)\n",
        "\n",
        "    path = list(subwayStation[line][min(dptIndex, dstIndex):max(dptIndex, dstIndex) + 1])\n",
        "    if dptIndex > dstIndex:\n",
        "        path.reverse()\n",
        "\n",
        "    print(outputMsg.format(dpt + ' to ' + dst + ' at ' + line + ': ' + str(path)))\n",
        "\n",
        "def dispPathBetweenStations():\n",
        "    dpt, dptLines = getStationAndLines('Please enter a departure station name:')\n",
        "    dst, dstLines = getStationAndLines('Please enter a destination station name:')\n",
        "\n",
        "    commonLine = tuple(set(dptLines) & set(dstLines))\n",
        "    if len(commonLine) > 0:\n",
        "        printPath(dpt, dst, commonLine[0])\n",
        "        return    \n",
        "\n",
        "    else:\n",
        "        for dptLine in dptLines:\n",
        "            for dstLine in dstLines:\n",
        "                commonStation = tuple(set(subwayStation[dptLine]) & set(subwayStation[dstLine]))\n",
        "                if len(commonStation) > 0:\n",
        "                    printPath(dpt, commonStation[0], dptLine)\n",
        "                    print(outputMsg.format('Transfer from ' + dptLine + ' to ' + dstLine + ' at ' + commonStation[0]))\n",
        "                    printPath(commonStation[0], dst, dstLine)\n",
        "                    return\n",
        "\n",
        "while True:\n",
        "    print(separator)\n",
        "    print('1. Display subway line information (Line 1 ~ 4)')\n",
        "    print('2. Display subway station information')\n",
        "    print('3. Find a path between two subway stations')\n",
        "    print('4. Exit')\n",
        "    print(separator)\n",
        "    \n",
        "    try:\n",
        "        option = int(input(inputMsg.format('Please choose one of the options (1 - 4):')))\n",
        "    except:\n",
        "        print(errorMsg.format('Please choose a valid option.'))\n",
        "\n",
        "    if option == 1:\n",
        "        print(separator)\n",
        "        print('Subway line information service')\n",
        "        print(separator)\n",
        "        dispSubwayLineInfo()\n",
        "        print('\\n')\n",
        "        \n",
        "    elif option == 2:\n",
        "        print(separator)\n",
        "        print('Subway station information service')\n",
        "        print(separator)\n",
        "        dispSubwayStationInfo()\n",
        "        print('\\n')\n",
        "\n",
        "    elif option == 3:\n",
        "        print(separator)\n",
        "        print('Subway navigation service')\n",
        "        print(separator)\n",
        "        dispPathBetweenStations()\n",
        "        print('\\n')\n",
        "\n",
        "    elif option == 4:\n",
        "        print(separator)\n",
        "        print(outputMsg.format('Bye bye~'))\n",
        "        break\n",
        "\n",
        "    else:\n",
        "        print(errorMsg.format('Please choose a valid option.'))"
      ],
      "execution_count": null,
      "outputs": []
    }
  ]
}