{
  "nbformat": 4,
  "nbformat_minor": 0,
  "metadata": {
    "colab": {
      "name": "ossppl_project.ipynb",
      "provenance": [],
      "collapsed_sections": [
        "NUD-hySm_uPc"
      ]
    },
    "kernelspec": {
      "name": "python3",
      "display_name": "Python 3"
    }
  },
  "cells": [
    {
      "cell_type": "markdown",
      "metadata": {
        "id": "NUD-hySm_uPc"
      },
      "source": [
        "# **Open Source SW and Python Programming Project: Implementation of Subway Navigation**\n",
        "\n",
        "In this project, you will implement a navigation system for Seoul subway stations, especially **step by step**\n",
        "\n",
        "\n"
      ]
    },
    {
      "cell_type": "markdown",
      "metadata": {
        "id": "uUsnepoeAhVl"
      },
      "source": [
        "# 0. Initialization\n",
        "\n",
        "Read subway station information by reading the file **simplified_subway_info.xlsx**\n",
        "*  The excel file contains subway station information of Seoul subway line 1 ~ 4\n",
        "*  When you execute this sourcecode, you MUST upload these files in your Colab runtime environment\n",
        "*   **MUST NOT** change this Initialization code cell"
      ]
    },
    {
      "cell_type": "code",
      "metadata": {
        "id": "qnbOlA6o_mIl"
      },
      "source": [
        "import xlrd\n",
        "\n",
        "# Read data file\n",
        "data = xlrd.open_workbook(\"simplified_subway_info.xlsx\")\n",
        "data = data.sheet_by_name('Sheet1')\n",
        "\n",
        "# Store the loaded book object as a string list in subwayStation variable\n",
        "subwayStation = []\n",
        "for line in range(4) :\n",
        "    cur = [x for x in data.col_values(line) if x]    \n",
        "    subwayStation.append(cur[1:])"
      ],
      "execution_count": null,
      "outputs": []
    },
    {
      "cell_type": "markdown",
      "metadata": {
        "id": "DBXU61Tn_vKS"
      },
      "source": [
        "# 1. Your implementation\n",
        "Let's start the implementation of a subway naviation system by using the loaded subway station information :)\n",
        "\n",
        "*   You can access the subway station information by referring to **subwayStation** variable (list type)"
      ]
    },
    {
      "cell_type": "code",
      "metadata": {
        "id": "zmiUuOU1Iq6a"
      },
      "source": [
        ""
      ],
      "execution_count": null,
      "outputs": []
    },
    {
      "cell_type": "code",
      "metadata": {
        "id": "7h-scy6AI8Re",
        "colab": {
          "base_uri": "https://localhost:8080/"
        },
        "outputId": "4b18d0d9-e10e-4d2e-eb04-2278378a7eed"
      },
      "source": [
        "'''\n",
        "This is an example code for showing how to use the loaded data.\n",
        "You can remove this code.\n",
        "'''\n",
        "\n",
        "def star():\n",
        "    for i in range(50) :\n",
        "        print('*',end='')\n",
        "    print('\\t')    \n",
        "\n",
        "star()\n",
        "print('1. Display subway line information (Line 1 - 4)  ')\n",
        "print('2. Display subway station information')\n",
        "print('3. Exit')\n",
        "star()\n",
        "\n",
        "select = None\n",
        "while select not in range(1,4) :\n",
        "     select = int(input('Please choose one of the options: '))\n",
        "\n",
        "if (select == 1) :       #옵션 1 선택했을 때\n",
        "    print('\\n')\n",
        "    star()\n",
        "    print('Subway line information service')\n",
        "    star()\n",
        "\n",
        "    line = None\n",
        "    while line not in range(1,5) :   #지하철 호선 선택\n",
        "        line = int(input('>>Please enter a subway line number (1 - 4): '))\n",
        "    if (line == 1) :\n",
        "        print(subwayStation[0])\n",
        "    elif (line == 2 ) :\n",
        "        print(subwayStation[1])\n",
        "    elif (line == 3) :\n",
        "        print(subwayStation[2])\n",
        "    elif (line == 4) :\n",
        "        print(subwayStation[3])\n",
        "    \n",
        "elif (select == 2) :   #옵션 2 선택했을 때\n",
        "    print('\\n')\n",
        "    star()\n",
        "    print('Subway station information service')\n",
        "    star()\n",
        "    station = None\n",
        "\n",
        "\n",
        "elif (select == 3):  #옵션 3 선택했을 때\n",
        "    print('\\n')\n",
        "    print('Subway station service End')"
      ],
      "execution_count": 9,
      "outputs": [
        {
          "output_type": "stream",
          "text": [
            "**************************************************\t\n",
            "1. Display subway line information (Line 1 - 4)  \n",
            "2. Display subway station information\n",
            "3. Exit\n",
            "**************************************************\t\n",
            "Please choose one of the options: 2\n",
            "\n",
            "\n",
            "**************************************************\t\n",
            "Subway station information service\n",
            "**************************************************\t\n"
          ],
          "name": "stdout"
        }
      ]
    }
  ]
}