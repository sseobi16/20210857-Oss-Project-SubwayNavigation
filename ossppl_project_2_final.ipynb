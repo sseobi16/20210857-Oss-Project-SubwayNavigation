{
  "nbformat": 4,
  "nbformat_minor": 0,
  "metadata": {
    "colab": {
      "name": "ossppl_project_2.ipynb",
      "provenance": [],
      "collapsed_sections": [
        "NUD-hySm_uPc"
      ]
    },
    "kernelspec": {
      "name": "python3",
      "display_name": "Python 3"
    }
  },
  "cells": [
    {
      "cell_type": "markdown",
      "metadata": {
        "id": "NUD-hySm_uPc"
      },
      "source": [
        "# **Open Source SW and Python Programming Project: Implementation of Subway Navigation**\n",
        "\n",
        "In this project, you will implement a navigation system for Seoul subway stations, especially **step by step**\n",
        "\n",
        "\n"
      ]
    },
    {
      "cell_type": "markdown",
      "metadata": {
        "id": "uUsnepoeAhVl"
      },
      "source": [
        "# 0. Initialization\n",
        "\n",
        "Read subway station information by reading the file **simplified_subway_info.xlsx**\n",
        "*  The excel file contains subway station information of Seoul subway line 1 ~ 4\n",
        "*  When you execute this sourcecode, you MUST upload these files in your Colab runtime environment\n",
        "*   **MUST NOT** change this Initialization code cell"
      ]
    },
    {
      "cell_type": "code",
      "metadata": {
        "id": "qnbOlA6o_mIl"
      },
      "source": [
        "import xlrd\n",
        "\n",
        "# Read data file\n",
        "data = xlrd.open_workbook(\"simplified_subway_info.xlsx\")\n",
        "data = data.sheet_by_name('Sheet1')\n",
        "\n",
        "# Store the loaded book object as a string list in subwayStation variable\n",
        "subwayStation = []\n",
        "for line in range(4) :\n",
        "    cur = [x for x in data.col_values(line) if x]    \n",
        "    subwayStation.append(cur[1:])"
      ],
      "execution_count": 14,
      "outputs": []
    },
    {
      "cell_type": "markdown",
      "metadata": {
        "id": "DBXU61Tn_vKS"
      },
      "source": [
        "# 1. Your implementation\n",
        "Let's start the implementation of a subway naviation system by using the loaded subway station information :)\n",
        "\n",
        "*   You can access the subway station information by referring to **subwayStation** variable (list type)"
      ]
    },
    {
      "cell_type": "code",
      "metadata": {
        "id": "zmiUuOU1Iq6a"
      },
      "source": [
        ""
      ],
      "execution_count": null,
      "outputs": []
    },
    {
      "cell_type": "code",
      "metadata": {
        "id": "7h-scy6AI8Re"
      },
      "source": [
        "'''\n",
        "This is an example code for showing how to use the loaded data.\n",
        "You can remove this code.\n",
        "'''\n",
        "\n",
        "subwaystation = {'Line1':tuple(subwayStation[0]), 'Line2':tuple(subwayStation[1]), 'Line3':tuple(subwayStation[2]), 'Line4':tuple(subwayStation[3])}\n",
        "\n",
        "for key in subwaystation.keys():\n",
        "    print(key)\n",
        "\n",
        "for value in subwaystation.values():\n",
        "    print(value)\n",
        "\n",
        "def star():\n",
        "    for i in range(50) :\n",
        "        print('*',end='')\n",
        "    print('\\t')  \n",
        "\n",
        "def start():\n",
        "    star()\n",
        "    print('1. Display subway line information (Line 1 - 4)  ')\n",
        "    print('2. Display subway station information')\n",
        "    print('3. Find a path between two subway stations')\n",
        "    print('4. Exit')\n",
        "    star()\n",
        "\n",
        "def dispSubwaylineInfo():    #옵션 1 함수\n",
        "    print('\\n')\n",
        "    star()\n",
        "    print('Subway line information service')\n",
        "    star()\n",
        "    line =  'Line' + input('Please enter a subway line number: ')\n",
        "    print( subwaystation[line] )\n",
        "    print('\\n')\n",
        "\n",
        "\n",
        "def dispSubwayStationInfo():  #옵션 2 함수 \n",
        "    print('\\n')\n",
        "    star()\n",
        "    print('Subway station information service')\n",
        "    star()\n",
        "\n",
        "    isValid = False\n",
        "    while True:\n",
        "        station = input('>> Please enter a subway station name:')\n",
        "        for i in range(4):\n",
        "            if station in subwayStation[i]:\n",
        "                if not isValid:\n",
        "                    stationInfo = station + ' is in Line ' + str(i + 1)\n",
        "                    isValid = True\n",
        "                else:\n",
        "                    stationInfo += ' and ' + str(i + 1)                \n",
        "\n",
        "        if not isValid:\n",
        "            print('Please enter a valid subway station name.')\n",
        "        else:\n",
        "            print(stationInfo)        \n",
        "            break\n",
        "\n",
        "def dispSubwayPathfinder():   #옵션 3 함수\n",
        "    print('\\n')\n",
        "    star()\n",
        "    print('Find a path service')\n",
        "    star()\n",
        "    find = False\n",
        "    while True:\n",
        "        startStation = input('>> Please enter a starting subway station name: ')\n",
        "        endStation = input('>> Please enter a ending subway station name: ')\n",
        "        for i in range(4):\n",
        "            for j in range(4):\n",
        "                if startStation in subwayStation[i]:\n",
        "                    SP = i\n",
        "                    if endStation in subwayStation[j]:\n",
        "                        EP = j\n",
        "                    else:\n",
        "                        find = True\n",
        "                else:\n",
        "                    find = True\n",
        "        if SP == EP:\n",
        "            print(subwayStation[SP][startStation:endStation])  #슬라이싱 방법을 잘 모르겠습니다ㅠㅠ\n",
        "            find = True\n",
        "        else:\n",
        "            set1 = set(subwayStation[SP])\n",
        "            set2 = set(subwayStation[EP])\n",
        "            midStation = set1.intersection(set2)\n",
        "            print(subwayStation[SP][startStation:midStation], subwayStation[EP][midStation:endStation])\n",
        "\n",
        "\n",
        "start()\n",
        "\n",
        "select = None\n",
        "while select not in range(1,5) :\n",
        "    select = int(input('Please choose one of the options: '))\n",
        "    if (select == 1) :       #옵션 1 선택했을 때\n",
        "        dispSubwaylineInfo()\n",
        "        select = None\n",
        "        start()\n",
        "  \n",
        "    elif (select == 2) :   #옵션 2 선택했을 때\n",
        "       dispSubwayStationInfo()\n",
        "       print('\\n')\n",
        "       select = None\n",
        "       start()\n",
        "\n",
        "    elif (select == 3) :   #옵션 3 선택했을 때\n",
        "        dispSubwayPathfinder()\n",
        "        select = None\n",
        "        start()\n",
        "\n",
        "    elif (select == 4):   #옵션 4 선택했을 때\n",
        "        print('\\n')\n",
        "        print('Subway station service End')\n"
      ],
      "execution_count": null,
      "outputs": []
    }
  ]
}